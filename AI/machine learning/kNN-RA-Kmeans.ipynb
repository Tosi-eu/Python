{
  "nbformat": 4,
  "nbformat_minor": 0,
  "metadata": {
    "colab": {
      "provenance": [],
      "collapsed_sections": [
        "jcWmlLprsGqC",
        "2iZ_H-ptPFWB",
        "rF51rilkPPmj"
      ]
    },
    "kernelspec": {
      "name": "python3",
      "display_name": "Python 3"
    }
  },
  "cells": [
    {
      "cell_type": "code",
      "metadata": {
        "id": "uQLhdMuY1ZC1"
      },
      "source": [
        "!pip install efficient-apriori\n",
        "\n",
        "import pandas as pd, graphviz, numpy as np\n",
        "from sklearn.metrics import f1_score\n",
        "from sklearn.tree import DecisionTreeClassifier, export_graphviz\n",
        "from sklearn.feature_selection import mutual_info_classif\n",
        "from sklearn.model_selection import train_test_split, StratifiedKFold\n",
        "\n",
        "from sklearn.neighbors import KNeighborsClassifier\n",
        "from efficient_apriori import apriori\n",
        "from sklearn.cluster import KMeans\n",
        "from sklearn.datasets import load_iris\n",
        "from scipy.cluster.hierarchy import dendrogram, linkage\n",
        "from scipy.cluster.hierarchy import cut_tree\n",
        "from sklearn.metrics.pairwise import euclidean_distances\n",
        "import matplotlib.pyplot as plt\n",
        "from google.colab import files"
      ],
      "execution_count": null,
      "outputs": []
    },
    {
      "cell_type": "markdown",
      "source": [
        "# K-NN\n",
        "\n",
        "## Aula 16 - Medidas de Distancia\n",
        "*   Exercicio 2 do slide 34\n",
        "\n"
      ],
      "metadata": {
        "id": "jcWmlLprsGqC"
      }
    },
    {
      "cell_type": "code",
      "source": [
        "data = [\n",
        "    [\"Estado\", \"Escolaridade\", \"Altura\", \"Salário\", \"Classe\"],\n",
        "    [\"SP\", \"Médio\", \"180\", \"3000\", \"A\"],\n",
        "    [\"RJ\", \"Médio\", \"180\", \"3000\", \"B\"],\n",
        "    [\"RS\", \"Superior\", \"174\", \"7000\", \"B\"],\n",
        "    [\"RJ\", \"Médio\", \"180\", \"600\", \"A\"],\n",
        "    [\"SP\", \"Superior\", \"100\", \"5000\", \"A\"],\n",
        "    [\"RJ\", \"Fundam.\", \"178\", \"1800\", \"A\"],\n",
        "    [\"SP\", \"Fundam.\", \"188\", \"1800\", \"A\"]\n",
        "]\n",
        "\n",
        "# Convertendo a lista de dados em um DataFrame\n",
        "columns = data[0]\n",
        "df = pd.DataFrame(data[1:], columns=columns)\n",
        "\n",
        "df['Escolaridade'].replace({'Fundam.': 1, 'Médio': 2, 'Superior': 3}, inplace=True)\n",
        "df['Classe'].replace({'A': 1, 'B': 2}, inplace=True)\n",
        "onehot = pd.get_dummies(df['Estado'])\n",
        "df = pd.concat([onehot.astype(int), df.drop('Estado', axis=1)], axis=1)\n",
        "df"
      ],
      "metadata": {
        "id": "hrsAAajqsIzl"
      },
      "execution_count": null,
      "outputs": []
    },
    {
      "cell_type": "code",
      "source": [
        "# Preparando dados para o treinamento\n",
        "X = df[['RJ', 'RS', 'SP', 'Escolaridade', 'Altura', 'Salário']].astype(int)\n",
        "y = df['Classe']\n",
        "\n",
        "# Dividindo os dados em treino e teste\n",
        "X_train, X_test, y_train, y_test = train_test_split(X, y, test_size=0.1, random_state=87)\n",
        "\n",
        "# Instanciando e treinando o modelo KNN\n",
        "# https://scikit-learn.org/stable/modules/generated/sklearn.metrics.pairwise.distance_metrics.html#sklearn.metrics.pairwise.distance_metrics\n",
        "knn = KNeighborsClassifier(n_neighbors=3, metric='euclidean')\n",
        "knn.fit(X_train, y_train)\n",
        "\n",
        "# Avaliando o modelo\n",
        "predictions = knn.predict(X_test)\n",
        "print(f1_score(y_test, predictions))"
      ],
      "metadata": {
        "id": "ImQu4bHYsnSU"
      },
      "execution_count": null,
      "outputs": []
    },
    {
      "cell_type": "code",
      "source": [
        "for x, y in zip(X_test.values, predictions):\n",
        "  print(x, y)"
      ],
      "metadata": {
        "id": "uoB5odBnyfPH"
      },
      "execution_count": null,
      "outputs": []
    },
    {
      "cell_type": "markdown",
      "metadata": {
        "id": "2iZ_H-ptPFWB"
      },
      "source": [
        "# Apriori\n"
      ]
    },
    {
      "cell_type": "code",
      "metadata": {
        "id": "CgLtowXi2MWy",
        "cellView": "form"
      },
      "source": [
        "#@title dataset para o apriori\n",
        "\n",
        "#baixar dataset (http://archive.ics.uci.edu/ml/datasets/Online+Retail/) (http://archive.ics.uci.edu/ml/machine-learning-databases/00352/)\n",
        "!wget http://archive.ics.uci.edu/static/public/352/online+retail.zip\n",
        "!unzip online+retail.zip"
      ],
      "execution_count": null,
      "outputs": []
    },
    {
      "cell_type": "code",
      "metadata": {
        "id": "TCRRhIAQKlDt"
      },
      "source": [
        "# carrega o dataset (demora um pouco)\n",
        "df = pd.read_excel('Online Retail.xlsx')\n",
        "df"
      ],
      "execution_count": null,
      "outputs": []
    },
    {
      "cell_type": "code",
      "metadata": {
        "id": "IrUqnThbNk2y"
      },
      "source": [
        "# para ficar mais rápido, removemos todas as transações do Reino Unido\n",
        "df.drop(df[df.Country == 'United Kingdom'].index, axis=0, inplace=True)\n",
        "\n",
        "# removemos também as colunas que não são interessantes\n",
        "df.drop(['StockCode', \"Quantity\", 'InvoiceDate', 'UnitPrice', 'CustomerID', 'Country'], axis=1, inplace=True)\n",
        "\n",
        "df"
      ],
      "execution_count": null,
      "outputs": []
    },
    {
      "cell_type": "code",
      "metadata": {
        "id": "u91FKxA0LdjO"
      },
      "source": [
        "# o apriori espera receber um conjunto de transações igual no exemplo abaixo\n",
        "# exemplo \"toy\"\n",
        "transactions = [['eggs', 'bacon', 'soup'],\n",
        "                ['eggs', 'bacon', 'apple'],\n",
        "                ['soup', 'bacon', 'banana'],\n",
        "                ['eggs', 'bacon']]"
      ],
      "execution_count": null,
      "outputs": []
    },
    {
      "cell_type": "code",
      "metadata": {
        "id": "Fyr8K4D8OIe-"
      },
      "source": [
        "# transformar o dataset para o formato esperado do apriori\n",
        "transactions = []\n",
        "last_id = ''\n",
        "\n",
        "for _, line in df.iterrows():\n",
        "  id, product = line\n",
        "  if id != last_id:\n",
        "    temp = []\n",
        "    transactions.append(temp)\n",
        "    last_id = id\n",
        "  temp.append(product.strip())\n",
        "\n",
        "transactions"
      ],
      "execution_count": null,
      "outputs": []
    },
    {
      "cell_type": "code",
      "metadata": {
        "id": "wX-KSgupM2z7"
      },
      "source": [
        "# ordenar todas as transações em ordem alfabética\n",
        "for t in transactions:\n",
        "  t.sort()"
      ],
      "execution_count": null,
      "outputs": []
    },
    {
      "cell_type": "code",
      "metadata": {
        "id": "ifJ2MWNbL5HJ"
      },
      "source": [
        "# executar o apriori (vai demorar um pouco, talvez seja interessante usar o exemplo toy)\n",
        "itemsets, rules = apriori(transactions, min_support=0.01, min_confidence=0.5)\n",
        "\n",
        "rules"
      ],
      "execution_count": null,
      "outputs": []
    },
    {
      "cell_type": "code",
      "metadata": {
        "id": "gQIuAqMEMpfI"
      },
      "source": [
        "regras = []\n",
        "for r in rules:\n",
        "  print(r)\n",
        "  print(r.lhs)\n",
        "  print(r.rhs)\n",
        "  print(r.lift)\n",
        "  print(r.support)\n",
        "  print(r.conviction)\n",
        "  print(r.confidence)\n",
        "  break"
      ],
      "execution_count": null,
      "outputs": []
    },
    {
      "cell_type": "markdown",
      "metadata": {
        "id": "1f0LZgafPLOh"
      },
      "source": [
        "# Agrupamento"
      ]
    },
    {
      "cell_type": "markdown",
      "metadata": {
        "id": "rF51rilkPPmj"
      },
      "source": [
        "## K-means"
      ]
    },
    {
      "cell_type": "code",
      "metadata": {
        "id": "7Iz26rqTPbH-"
      },
      "source": [
        "data = load_iris()\n",
        "\n",
        "print(data.keys())\n",
        "\n",
        "dataset = data['data']\n",
        "\n",
        "dataset[:10]"
      ],
      "execution_count": null,
      "outputs": []
    },
    {
      "cell_type": "code",
      "metadata": {
        "id": "VHPQgB6Id7VL"
      },
      "source": [
        "kmeans = KMeans(n_clusters=5, n_init=10)\n",
        "kmeans.fit(dataset)\n",
        "\n",
        "kmeans.labels_"
      ],
      "execution_count": null,
      "outputs": []
    },
    {
      "cell_type": "markdown",
      "metadata": {
        "id": "EaP393McPT_s"
      },
      "source": [
        "## Hierarquico"
      ]
    },
    {
      "cell_type": "code",
      "metadata": {
        "id": "lgigy0uJgX6w"
      },
      "source": [
        "distance = euclidean_distances(dataset)\n",
        "\n",
        "distance"
      ],
      "execution_count": null,
      "outputs": []
    },
    {
      "cell_type": "code",
      "source": [
        "pd.DataFrame(distance)"
      ],
      "metadata": {
        "id": "LGXBEAIh3c7l"
      },
      "execution_count": null,
      "outputs": []
    },
    {
      "cell_type": "code",
      "metadata": {
        "id": "pPNGZPLPhAG7"
      },
      "source": [
        "con_distance = []\n",
        "for i, l in enumerate(distance):\n",
        "  con_distance.extend(l[i+1:])"
      ],
      "execution_count": null,
      "outputs": []
    },
    {
      "cell_type": "code",
      "metadata": {
        "id": "5N6DB_qAha8C"
      },
      "source": [
        "z = linkage(con_distance, 'ward')"
      ],
      "execution_count": null,
      "outputs": []
    },
    {
      "cell_type": "code",
      "metadata": {
        "id": "oJ_Bc9N1hoKY"
      },
      "source": [
        "fig = plt.figure(figsize=(20, 10))\n",
        "\n",
        "dn = dendrogram(z, color_threshold=4)\n",
        "fig.savefig('plt.pdf', format='pdf', bbox_inches='tight')\n",
        "\n",
        "# files.download('plt.pdf')"
      ],
      "execution_count": null,
      "outputs": []
    },
    {
      "cell_type": "markdown",
      "metadata": {
        "id": "26H9bSq5YLTC"
      },
      "source": [
        "## Avaliação de agrupamento"
      ]
    },
    {
      "cell_type": "code",
      "metadata": {
        "id": "iE2itKv1j8MC"
      },
      "source": [
        "def set_group(matrix, ids):\n",
        "  for id1 in ids:\n",
        "    for id2 in ids:\n",
        "      if id1 != id2:\n",
        "        matrix[id1][id2] += 1"
      ],
      "execution_count": null,
      "outputs": []
    },
    {
      "cell_type": "code",
      "metadata": {
        "id": "XHMUbEb9mDxn"
      },
      "source": [
        "m = np.zeros([8, 8])\n",
        "m"
      ],
      "execution_count": null,
      "outputs": []
    },
    {
      "cell_type": "code",
      "metadata": {
        "id": "k5TeOf8Dm5QZ"
      },
      "source": [
        "#alg1\n",
        "set_group(m, [1, 5, 6])\n",
        "set_group(m, [3, 2, 7, 0, 4])\n",
        "\n",
        "#alg2\n",
        "set_group(m, [1, 5])\n",
        "set_group(m, [3, 4, 6, 0])\n",
        "set_group(m, [2, 7])\n",
        "m"
      ],
      "execution_count": null,
      "outputs": []
    },
    {
      "cell_type": "code",
      "metadata": {
        "id": "UDZ5-3vXnaKG"
      },
      "source": [
        "kmeans = KMeans(n_clusters=10)\n",
        "kmeans.fit(dataset)\n",
        "\n",
        "kmeans_t1 = {}\n",
        "\n",
        "id = 0\n",
        "for group in kmeans.labels_:\n",
        "  if group not in kmeans_t1:\n",
        "    kmeans_t1[group] = []\n",
        "  kmeans_t1[group].append(id)\n",
        "  id += 1"
      ],
      "execution_count": null,
      "outputs": []
    },
    {
      "cell_type": "code",
      "metadata": {
        "id": "ujDDrgaMpPuH"
      },
      "source": [
        "kmeans = KMeans(n_clusters=3)\n",
        "kmeans.fit(dataset)\n",
        "\n",
        "kmeans_t2 = {}\n",
        "\n",
        "id = 0\n",
        "for group in kmeans.labels_:\n",
        "  if group not in kmeans_t2:\n",
        "    kmeans_t2[group] = []\n",
        "  kmeans_t2[group].append(id)\n",
        "  id += 1"
      ],
      "execution_count": null,
      "outputs": []
    },
    {
      "cell_type": "code",
      "metadata": {
        "id": "9IgJua9epxoK"
      },
      "source": [
        "pd.DataFrame(z, columns=['Cluster1', 'Cluster2', 'Distance', 'cluster size'], dtype='object')"
      ],
      "execution_count": null,
      "outputs": []
    },
    {
      "cell_type": "code",
      "metadata": {
        "id": "NRY2O1PxrIjZ"
      },
      "source": [
        "tree = cut_tree(z, n_clusters=[3, 6])\n",
        "\n",
        "h_tree = [{}, {}]\n",
        "\n",
        "id = 0\n",
        "for l in tree:\n",
        "  g3, g6 = l\n",
        "  if g3 not in h_tree[0]:\n",
        "    h_tree[0][g3] = []\n",
        "  h_tree[0][g3].append(id)\n",
        "  if g6 not in h_tree[1]:\n",
        "    h_tree[1][g6] = []\n",
        "  h_tree[1][g6].append(id)\n",
        "  id += 1"
      ],
      "execution_count": null,
      "outputs": []
    },
    {
      "cell_type": "code",
      "metadata": {
        "id": "RAnP5jSmtNh6"
      },
      "source": [
        "m = np.zeros([len(dataset), len(dataset)])\n",
        "m"
      ],
      "execution_count": null,
      "outputs": []
    },
    {
      "cell_type": "code",
      "metadata": {
        "id": "he1U_Onjs4m6"
      },
      "source": [
        "for _, grupo in kmeans_t1.items():\n",
        "  set_group(m, grupo)"
      ],
      "execution_count": null,
      "outputs": []
    },
    {
      "cell_type": "code",
      "metadata": {
        "id": "H4H3Klr1tiPp"
      },
      "source": [
        "for _, grupo in kmeans_t2.items():\n",
        "  set_group(m, grupo)"
      ],
      "execution_count": null,
      "outputs": []
    },
    {
      "cell_type": "code",
      "metadata": {
        "id": "dAh5Qb4atkRi"
      },
      "source": [
        "for agrp in h_tree:\n",
        "  for _, grupo in agrp.items():\n",
        "    set_group(m, grupo)"
      ],
      "execution_count": null,
      "outputs": []
    },
    {
      "cell_type": "code",
      "metadata": {
        "id": "m-7DLQWjt9fu"
      },
      "source": [
        "m_dist = 1 / (m + 1)\n",
        "\n",
        "m_dist"
      ],
      "execution_count": null,
      "outputs": []
    },
    {
      "cell_type": "code",
      "metadata": {
        "id": "jcGHytg7vKOh"
      },
      "source": [
        "con_distance = []\n",
        "t = 0\n",
        "for l in m_dist:\n",
        "  t += 1\n",
        "  con_distance.extend(l[t:])"
      ],
      "execution_count": null,
      "outputs": []
    },
    {
      "cell_type": "code",
      "metadata": {
        "id": "rj8EAXYBvNkX"
      },
      "source": [
        "z = linkage(con_distance, method='average')\n",
        "\n",
        "\n",
        "fig = plt.figure(figsize=(20, 10))\n",
        "\n",
        "dn = dendrogram(z)\n",
        "fig.savefig('plt.pdf', format='pdf', bbox_inches='tight')\n",
        "\n",
        "# files.download('plt.pdf')"
      ],
      "execution_count": null,
      "outputs": []
    }
  ]
}